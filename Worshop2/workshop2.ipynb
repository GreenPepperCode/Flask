{
 "cells": [
  {
   "cell_type": "code",
   "execution_count": 2,
   "metadata": {},
   "outputs": [
    {
     "name": "stdout",
     "output_type": "stream",
     "text": [
      "Exactitude: 1.0\n"
     ]
    }
   ],
   "source": [
    "import pandas as pd\n",
    "from sklearn.model_selection import train_test_split\n",
    "from sklearn.neighbors import KNeighborsClassifier\n",
    "from sklearn.metrics import accuracy_score\n",
    "import pickle\n",
    "\n",
    "# Étape 1: Charger le jeu de données Iris\n",
    "iris_data = pd.read_csv('Iris.csv')\n",
    "\n",
    "# Étape 2: Prétraiter les données\n",
    "# Vérifier s'il y a des valeurs manquantes\n",
    "iris_data.isnull().sum()\n",
    "\n",
    "# Encoder la variable cible catégorique (si nécessaire)\n",
    "from sklearn.preprocessing import LabelEncoder\n",
    "encoder = LabelEncoder()\n",
    "iris_data['Species_encoded'] = encoder.fit_transform(iris_data['Species'])\n",
    "\n",
    "# Sélectionner les caractéristiques à utiliser pour l'entraînement, en excluant la première colonne (Id)\n",
    "X = iris_data.drop(['Id', 'Species', 'Species_encoded'], axis=1)\n",
    "\n",
    "# Sélectionner la colonne cible correctement nommée\n",
    "# Sélectionner la colonne cible correctement nommée\n",
    "y = iris_data['Species']\n",
    "\n",
    "# Étape 3: Diviser les données en ensembles d'entraînement et de test\n",
    "X_train, X_test, y_train, y_test = train_test_split(X, y, test_size=0.2, random_state=42)\n",
    "\n",
    "# Étape 4: Entraîner un modèle\n",
    "# Initialiser le classificateur KNN\n",
    "knn = KNeighborsClassifier(n_neighbors=3)\n",
    "\n",
    "# Entraîner le modèle\n",
    "knn.fit(X_train, y_train)\n",
    "\n",
    "# Étape 5: Évaluer le modèle\n",
    "# Prédire sur l'ensemble de test\n",
    "y_pred = knn.predict(X_test)\n",
    "\n",
    "# Calculer l'exactitude\n",
    "accuracy = accuracy_score(y_test, y_pred)\n",
    "print(\"Exactitude:\", accuracy)\n",
    "\n",
    "# Étape 6: Sauvegarder le modèle\n",
    "# Enregistrer le modèle sur le disque\n",
    "filename = 'model.pkl'\n",
    "pickle.dump(knn, open(filename, 'wb'))\n"
   ]
  }
 ],
 "metadata": {
  "kernelspec": {
   "display_name": "flask_env",
   "language": "python",
   "name": "python3"
  },
  "language_info": {
   "codemirror_mode": {
    "name": "ipython",
    "version": 3
   },
   "file_extension": ".py",
   "mimetype": "text/x-python",
   "name": "python",
   "nbconvert_exporter": "python",
   "pygments_lexer": "ipython3",
   "version": "3.11.8"
  }
 },
 "nbformat": 4,
 "nbformat_minor": 2
}
